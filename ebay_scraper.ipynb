{
 "cells": [
  {
   "cell_type": "code",
   "execution_count": 24,
   "id": "a6d37cf6-6eaa-421a-a0d8-376147fb770a",
   "metadata": {},
   "outputs": [
    {
     "name": "stdout",
     "output_type": "stream",
     "text": [
      "Requirement already satisfied: bs4 in /Library/Frameworks/Python.framework/Versions/3.11/lib/python3.11/site-packages (0.0.2)\n",
      "Requirement already satisfied: beautifulsoup4 in /Library/Frameworks/Python.framework/Versions/3.11/lib/python3.11/site-packages (from bs4) (4.12.2)\n",
      "Requirement already satisfied: soupsieve>1.2 in /Library/Frameworks/Python.framework/Versions/3.11/lib/python3.11/site-packages (from beautifulsoup4->bs4) (2.5)\n",
      "\n",
      "\u001b[1m[\u001b[0m\u001b[34;49mnotice\u001b[0m\u001b[1;39;49m]\u001b[0m\u001b[39;49m A new release of pip is available: \u001b[0m\u001b[31;49m23.3.1\u001b[0m\u001b[39;49m -> \u001b[0m\u001b[32;49m24.0\u001b[0m\n",
      "\u001b[1m[\u001b[0m\u001b[34;49mnotice\u001b[0m\u001b[1;39;49m]\u001b[0m\u001b[39;49m To update, run: \u001b[0m\u001b[32;49mpip install --upgrade pip\u001b[0m\n"
     ]
    }
   ],
   "source": [
    "!pip install bs4"
   ]
  },
  {
   "cell_type": "code",
   "execution_count": 25,
   "id": "be74858c-bb50-4024-aa84-afa643cc2171",
   "metadata": {},
   "outputs": [
    {
     "name": "stdout",
     "output_type": "stream",
     "text": [
      "Requirement already satisfied: requests in /Library/Frameworks/Python.framework/Versions/3.11/lib/python3.11/site-packages (2.31.0)\n",
      "Requirement already satisfied: charset-normalizer<4,>=2 in /Library/Frameworks/Python.framework/Versions/3.11/lib/python3.11/site-packages (from requests) (3.2.0)\n",
      "Requirement already satisfied: idna<4,>=2.5 in /Library/Frameworks/Python.framework/Versions/3.11/lib/python3.11/site-packages (from requests) (3.4)\n",
      "Requirement already satisfied: urllib3<3,>=1.21.1 in /Library/Frameworks/Python.framework/Versions/3.11/lib/python3.11/site-packages (from requests) (2.0.4)\n",
      "Requirement already satisfied: certifi>=2017.4.17 in /Library/Frameworks/Python.framework/Versions/3.11/lib/python3.11/site-packages (from requests) (2023.7.22)\n",
      "\n",
      "\u001b[1m[\u001b[0m\u001b[34;49mnotice\u001b[0m\u001b[1;39;49m]\u001b[0m\u001b[39;49m A new release of pip is available: \u001b[0m\u001b[31;49m23.3.1\u001b[0m\u001b[39;49m -> \u001b[0m\u001b[32;49m24.0\u001b[0m\n",
      "\u001b[1m[\u001b[0m\u001b[34;49mnotice\u001b[0m\u001b[1;39;49m]\u001b[0m\u001b[39;49m To update, run: \u001b[0m\u001b[32;49mpip install --upgrade pip\u001b[0m\n"
     ]
    }
   ],
   "source": [
    "!pip install requests"
   ]
  },
  {
   "cell_type": "code",
   "execution_count": 26,
   "id": "f2afd0a1-44a1-4420-bb82-eb06e7f3d698",
   "metadata": {},
   "outputs": [
    {
     "name": "stdout",
     "output_type": "stream",
     "text": [
      "Requirement already satisfied: pandas in /Library/Frameworks/Python.framework/Versions/3.11/lib/python3.11/site-packages (2.1.1)\n",
      "Requirement already satisfied: numpy>=1.23.2 in /Library/Frameworks/Python.framework/Versions/3.11/lib/python3.11/site-packages (from pandas) (1.26.1)\n",
      "Requirement already satisfied: python-dateutil>=2.8.2 in /Library/Frameworks/Python.framework/Versions/3.11/lib/python3.11/site-packages (from pandas) (2.8.2)\n",
      "Requirement already satisfied: pytz>=2020.1 in /Library/Frameworks/Python.framework/Versions/3.11/lib/python3.11/site-packages (from pandas) (2023.3.post1)\n",
      "Requirement already satisfied: tzdata>=2022.1 in /Library/Frameworks/Python.framework/Versions/3.11/lib/python3.11/site-packages (from pandas) (2023.3)\n",
      "Requirement already satisfied: six>=1.5 in /Library/Frameworks/Python.framework/Versions/3.11/lib/python3.11/site-packages (from python-dateutil>=2.8.2->pandas) (1.16.0)\n",
      "\n",
      "\u001b[1m[\u001b[0m\u001b[34;49mnotice\u001b[0m\u001b[1;39;49m]\u001b[0m\u001b[39;49m A new release of pip is available: \u001b[0m\u001b[31;49m23.3.1\u001b[0m\u001b[39;49m -> \u001b[0m\u001b[32;49m24.0\u001b[0m\n",
      "\u001b[1m[\u001b[0m\u001b[34;49mnotice\u001b[0m\u001b[1;39;49m]\u001b[0m\u001b[39;49m To update, run: \u001b[0m\u001b[32;49mpip install --upgrade pip\u001b[0m\n"
     ]
    }
   ],
   "source": [
    "!pip install pandas"
   ]
  },
  {
   "cell_type": "code",
   "execution_count": 47,
   "id": "28bca5fe-0e14-4c33-82c6-484ba5814113",
   "metadata": {},
   "outputs": [],
   "source": [
    "from bs4 import BeautifulSoup \n",
    "import requests\n",
    "import pandas as pd"
   ]
  },
  {
   "cell_type": "code",
   "execution_count": 60,
   "id": "8e63ada3-4055-4d55-89c4-e825e5be6a5c",
   "metadata": {},
   "outputs": [],
   "source": [
    "URL = \"https://www.ebay.it/sch/i.html?_from=R40&_trksid=p4432023.m570.l1313&_nkw=playstation+5&_sacat=0\""
   ]
  },
  {
   "cell_type": "code",
   "execution_count": 61,
   "id": "14241dc2-6995-482b-a441-da7d7a8d69e6",
   "metadata": {},
   "outputs": [],
   "source": [
    "# Headers for request\n",
    "HEADERS = ({'User-Agent': 'Mozilla/5.0 (Macintosh; Intel Mac OS X 10_15_7) AppleWebKit/605.1.15 (KHTML, like Gecko) Version/17.2.1 Safari/605.1.15', \n",
    "            'Accept-Language': 'en-US, en;q=0.5'})"
   ]
  },
  {
   "cell_type": "code",
   "execution_count": 62,
   "id": "9fb5d8d4-bc8b-4fd6-8af7-5e54f6e11e06",
   "metadata": {},
   "outputs": [],
   "source": [
    "webpage = requests.get(URL, headers=HEADERS)"
   ]
  },
  {
   "cell_type": "code",
   "execution_count": 63,
   "id": "6d55a2c6-4f2d-4611-a65f-7e03ca54a77c",
   "metadata": {},
   "outputs": [
    {
     "data": {
      "text/plain": [
       "<Response [200]>"
      ]
     },
     "execution_count": 63,
     "metadata": {},
     "output_type": "execute_result"
    }
   ],
   "source": [
    "webpage"
   ]
  },
  {
   "cell_type": "code",
   "execution_count": 64,
   "id": "074af2a3-7666-415b-a77f-80253800bc60",
   "metadata": {},
   "outputs": [
    {
     "data": {
      "text/plain": [
       "bytes"
      ]
     },
     "execution_count": 64,
     "metadata": {},
     "output_type": "execute_result"
    }
   ],
   "source": [
    "type(webpage.content)"
   ]
  },
  {
   "cell_type": "code",
   "execution_count": 65,
   "id": "d7f6e8de-6f2f-4c4b-a5cc-a8587691ed0b",
   "metadata": {},
   "outputs": [],
   "source": [
    "#Soup object containing all data\n",
    "soup = BeautifulSoup(webpage.content, \"html.parser\")"
   ]
  },
  {
   "cell_type": "code",
   "execution_count": null,
   "id": "b19e073d-ca16-4b0d-82f7-f5153e144003",
   "metadata": {},
   "outputs": [],
   "source": [
    "#soup"
   ]
  },
  {
   "cell_type": "code",
   "execution_count": 85,
   "id": "1664378a-42b8-40dc-a9c8-5dfeca87e374",
   "metadata": {},
   "outputs": [],
   "source": [
    "links = soup.find_all(\"div\", attrs={'class':'s-item__info clearfix'})"
   ]
  },
  {
   "cell_type": "code",
   "execution_count": 90,
   "id": "f9f0e223-cf92-46c8-bf46-3b47c1bf0fa0",
   "metadata": {},
   "outputs": [
    {
     "name": "stdout",
     "output_type": "stream",
     "text": [
      "https://ebay.com/itm/123456?hash=item28caef0a3a:g:E3kAAOSwlGJiMikD&amdata=enc%3AAQAHAAAAsJoWXGf0hxNZspTmhb8%2FTJCCurAWCHuXJ2Xi3S9cwXL6BX04zSEiVaDMCvsUbApftgXEAHGJU1ZGugZO%2FnW1U7Gb6vgoL%2BmXlqCbLkwoZfF3AUAK8YvJ5B4%2BnhFA7ID4dxpYs4jjExEnN5SR2g1mQe7QtLkmGt%2FZ%2FbH2W62cXPuKbf550ExbnBPO2QJyZTXYCuw5KVkMdFMDuoB4p3FwJKcSPzez5kyQyVjyiIq6PB2q%7Ctkp%3ABlBMULq7kqyXYA\n",
      "https://www.ebay.it/itm/166597899181?itmmeta=01HQ83AKSZY64YSW1STZ5JX104&hash=item26ca0233ad:g:VR4AAOSwgEplnKI-&itmprp=enc%3AAQAIAAAA4KYbXxwQ%2FdyfUfFn7r66KQFiiVUZMpiayTfyIpAgltvVgx5ikzI3w3PMT88EgHE%2BCxskc7%2F5UJbInNlJju7%2F3ukGYvKl%2FYK1NnukYMxQGq7S9YWyhReughf6fAgZj4poyd3NXrYZIdoorUMqQWf6jqAznN%2FZe0VD6tH3f6p39R0vt2%2FwjwUqDw8ATpyNmjuLtdWKwNOt0sA6YjWpZorUMk34ct5PoZhMA%2BV9prEWbtggjIh5s9IQhbhT9xMbhy6Ti8kCKydGmMnmjwWnirFGFmCetSOFLedeVuHt%2BLmn082k%7Ctkp%3ABFBMiL2qg7pj\n",
      "https://www.ebay.it/itm/395217076168?itmmeta=01HQ83AKSZAB2XYCDY5PWH8NNH&hash=item5c04c5ffc8:g:kTMAAOSwtZljypEY&itmprp=enc%3AAQAIAAAA4EwhSup1W6%2FuxXBZFZ3qLGNuLDt201koqrX6naSsSUmKdFLluWQJQke%2FZVpADClURTzCCNXINnfW5WCUvp60rElvf%2F2b2hVcFTAXHDOks4QinKVcM1ahb%2FvDOq%2FhnG89o67h1bj0mjT%2FX57kh8bd%2BxgloRATQvk9lW0Tl3TB4HeYkccmk4qi3qy6ycKdwY7eHzi5WNEaDTdZGCxr%2Fm937nIxAuuSzQcW8EvIxF2AcyAUCR8Wm10Yt4sDSg45TJ%2Fy2h5nSYqQ3V9amjmySU2%2FQLGu96DiE%2F9X19qsUcSFya0K%7Ctkp%3ABFBMir2qg7pj\n",
      "https://www.ebay.it/itm/315154385198?itmmeta=01HQ83AKSZVN6GKTFSFXQWKR1G&hash=item4960aa492e:g:zTsAAOSwWrRlyqJZ&itmprp=enc%3AAQAIAAAA4LmnP9dJ92IK5A%2FreGlurvhHPgt6bYymt29ugGak67gTLaoX2j2B0yc4MdpJVkGGM289MCfV4dN40W4UNyqRKqwSf0mDGHVr9tF5ECGNHua%2FRe96hsYKGtuw%2FLrkUDNwTMgxVWyHtiOh4L8TqOK6Oz5I%2B4LQGtN4ERT%2Ber3HFpq3SvXaP9HLr043%2BK85pzBlsORfbUzdSlU32eByMnZe6q7oYiJISBRR%2F1ewElNd%2BLRYm1sdhV--KxiGKehfVYsGF1LsJLteq%2FZ%2BzAU3iXVPKyi4MI8KQuet3eOshiKXREHh%7Ctkp%3ABFBMir2qg7pj\n",
      "https://www.ebay.it/itm/145579832353?itmmeta=01HQ83AKSZD2Q4T1MFZ5BTQYVE&hash=item21e53bf421:g:ybYAAOSwuLFlmmRH&itmprp=enc%3AAQAIAAAA4OLAbsUFAcH0JS04oj81FbjrPiOOPDO0oJt5ljlX751gck5%2BsQSZz4dhpQdQCwbFkpCUtsatwptowi7cs1R%2BNexz%2BJVmos%2FRC7Q03po3jFoykX1JN0tPAfLeASXwtjacdR3q4Mtv0R2wwTKYowxBJjcN4ShHGE%2Fpi7%2Bmv8YbNkT98X9lQZ2dwZZ8W8HTVni1BVaj1lqYUCcD5oASnKJI2EaJS7IiNGy0b8V9NDCMeCtb43DgRuWqhTzeKkEfXUh3F1U2hiHelKHUv38g4XMiGHlyBYSblth6MbCD58GTTK4G%7Ctkp%3ABFBMir2qg7pj\n",
      "https://www.ebay.it/itm/225904797387?itmmeta=01HQ83AKSZEJSRBQRVZZ8PBZVF&hash=item3498f9a6cb:g:e7YAAOSw~AZlcEe5&itmprp=enc%3AAQAIAAAA4KR1nkArUhKQfmeUoU6SNA2MMFdtdCnL82c6%2BcxyD9NMDtEljVCLOZEHwwDYbcuiOuydD%2FaXxoIY%2FSN1nkStVGqnN9OSeMVJf%2BwTJ2NLByUC72O5akpOtGLWeNt7DaOzwhKI44yCo3E74CFX4pBmLn0DUD%2FD7EKZOcZ3gMfXBAEkuKblRT0otI6BP0zhWnDLeSqyPos2UwrKgOc1yEPqNuV4H9eiIuDDYW5et%2F7PI5a5EV3m31FIYSJzYTTTfllvDEHO2GnPb1GDcrWTs0LOAQLK9CTQcOqQWAq8HqO9SRbC%7Ctkp%3ABk9SR4q9qoO6Yw\n",
      "https://www.ebay.it/itm/145455761331?itmmeta=01HQ83AKSZYGM87XR6H7FP5J8Z&hash=item21ddd6c7b3:g:YosAAOSwQJBlX4y9&itmprp=enc%3AAQAIAAAA4KKDconucBoWpkd377lWwqqLzf18pP%2FpfEBqzVRuZOldBvSmDy5XcmIKuKjtWYzLt9mdw1kz5Ql%2BtGGlDKit%2FHQLoSAX4aUQGlY39ShjGci11c2MJ2iI9LIy91ynA%2BQ7cmRsTRMR6aet85vIWjW0o%2FonsiluoucYl1Vx6hwBOfYaRtGVHf3DSnAZXK6P4MAQkMs5Iql4eI6S8bzF9Kkix8StLhD7Vcy46lHHb6wGJiX1hSd51tTK4HYwg52p2mXfLE%2FlIAvBabC2lYalwxDJb55FZrF3W7RHKdu0ueuP3YWs%7Ctkp%3ABk9SR4q9qoO6Yw\n",
      "https://www.ebay.it/itm/186185437293?itmmeta=01HQ83AKSZMTHR7SRGHRZ28Z2K&hash=item2b5984506d:g:ET0AAOSwCnNley~2&itmprp=enc%3AAQAIAAAA4Cw%2BjUW3FVBebIBx%2FL06%2FgoEp7qAq%2BFB32Vaqj%2FDcYMVlgrS8d%2F6JpdOXQJmhiMDKFmRZEFD1C2rydy9FqqJuNcw7nCxD4%2FAXJcQ0N%2FynrGXRTYUS%2F5y1zi41Wv0J7TKQWbF6KHH79FJHbBUeU1xurA%2Fwrxwvvlsa%2FDRyY2f4eDW1XHu7KanuFW5QwB%2FA8RNsWmCAJ4AMYzV4ezLWeZXpXi6aW0ii5%2BcKKYDJaog9q2qLsyeIh0wYk7X6%2FYC2m9hh2J8rMgcCoC9jBUwDdswpqLcbxhShKl%2F5z%2BONNenBmDA%7Ctkp%3ABk9SR4q9qoO6Yw\n",
      "https://www.ebay.it/itm/126342203736?itmmeta=01HQ83AKSZY6J2SWTPAC8JKCQV&hash=item1d6a950958:g:exMAAOSwM-Jl1f6A&itmprp=enc%3AAQAIAAAAwD0zX%2ByPjzds%2B62jUVd9k5DH1jTowBy9%2BuiAJxDSsv49V4L9bfDsEi%2BkE7rGgjJOH2%2B%2BFmwNsDZo4%2FSHJQow1JjU7NnfVs73B5shjrZ4DmNfbwS%2BRzmmkkRBsD%2FKnthZPDw%2Bi2yY7dYHFnIDZBBqdeHf%2BjBrC%2Fv5dpLB95c1YOB2wV3qWs7vKPby%2Feu%2FfRL8Io%2BjJE3HKWhzZWjIfGeZzsNNF2a0fUjlc3UEPiy0gY0AkbL4d%2FTpcVcUjZLD20WyXA%3D%3D%7Ctkp%3ABk9SR4q9qoO6Yw\n",
      "https://www.ebay.it/itm/126342589256?itmmeta=01HQ83AKSZ4ZPZHH9Z70XTCMGH&hash=item1d6a9aeb48:g:KJ8AAOSwaKxlxiNI&itmprp=enc%3AAQAIAAAAwCojmIF34P5whcl%2B7%2FUpSKmq88mlDDon0vRxd3LT7j%2BCvg8sJF0%2BNeHn5GznTWSvzJzKjDB6xdepDkxU3vUtnerPEwvOA2y5XLWJE1QLOSaj%2FVj005ImOdnrxX1CE3y%2FBHaIE52kqXdAAn6gozhLB40Gu4YNsQsVu1Zioc6x0b3e8o6xzu32sW0cJFRHYYOj%2FF59L%2BO7ckTqq2WCbkbD3qp1F818f8Mfd5Rye0mpjjCRybqHmSOG6hvYfyvHemSQTQ%3D%3D%7Ctkp%3ABk9SR4q9qoO6Yw\n",
      "https://www.ebay.it/itm/355226895802?itmmeta=01HQ83AKSZNR03Z65NHSP1ACYN&hash=item52b52c45ba:g:HioAAOSwSA5lYOQc&itmprp=enc%3AAQAIAAAAwCW6VYITjgqNlG0MlNjgZ9cqLq5NbAcFq%2B3%2BvrEUzRkTNmKyp4O7e4gO1lbRCvbNl7JbrcreqLcBwo4RydCqCOdN7g4Ba6G1lTOpsDGyszs9Cj0krQAjp28NkIjvWKRLthEr3dyADlKKduIBd87UIBj2jj96JHb5SezvjuvUBdS1UIoch3iwvUTQ97PtwcVnsJ477ZoilF3GiWqGxPejXMCNyZEm4EP16IgHasYxCW3hOh6UbRlo%2Fwz8NwEEIv3t0w%3D%3D%7Ctkp%3ABk9SR4q9qoO6Yw\n",
      "https://www.ebay.it/itm/226006686462?itmmeta=01HQ83AKSZDPG24ZN9CZVEYG57&hash=item349f0c5afe:g:Y10AAOSw27Zl0AG8&itmprp=enc%3AAQAIAAAA4IJrn8ApbwibJgHDpAyMoQsVZBN6T2ao0UrS9bSUgFyxHp1FKHmSMV4otYLIJE7nxPFRkCGtXOyOsZPRh%2Fk%2BJRz2TgVTJmzsf3fglSmfw%2F404ADVzLni9sDj5xwhVq%2BWktip1GgWH0KeAKto7PDkLEq0QjeyzxLE%2FgFaKnQK0hzrHYmlRmlHQnaQ4tZGS3GcWZWfJqdAfpXrKBETHmi0NK%2FVG3FOFInGwsHiou8mY86ZOHwzt%2FjLzwGKSIrF0jy67LYIUBh4WGa%2FzAPDY5y2iZDygqJbJb%2BCHb1SBuegiTkt%7Ctkp%3ABk9SR4q9qoO6Yw\n",
      "https://www.ebay.it/itm/404756790163?itmmeta=01HQ83AKSZXE2DTYFNM59DF5PP&hash=item5e3d627b93:g:VAUAAOSwvTtlb4dE&itmprp=enc%3AAQAIAAAAwHJngD0igf4sq3n0vA82fNRebmy5ak5VYE2N02DCyPQzkBTwr9sM4xeTf51QHEIADZupXyd15XhHyzZVKVgtUIUULVZ42EbiILTZJIladX38fojT%2FnNJ%2Bgo1rAsd618uNmEi%2F7uMXCCksRhsnf5qTLEVj7h92%2Bh8xRy67AT%2Fs3o6l5lMPM8nTnKvfKtxLAtA63mjEQ377s2vk2cviTOs95Gcx5gcUBDG1BsByiBBdcEosbi4jKjvEOig%2BR%2FcLy7Qgw%3D%3D%7Ctkp%3ABk9SR4q9qoO6Yw\n",
      "https://www.ebay.it/itm/364742763487?itmmeta=01HQ83AKSZZ3NK8KQTK3Q5SHH2&hash=item54ec5ce3df:g:kCcAAOSwAhBl02Zv&itmprp=enc%3AAQAIAAAAwDGDW8yRX2jY%2B7RDl%2FrGtCdnFoScJVdEx5uCFYCW3n%2B3vEUkntDKtctrAngLeFq%2F3%2FerxZUyeo18GIa0IsN0o4YYzUqe8nAzhwvuXCtw4BvuusjoYHpWdFjcLqnisAebBXmWzVIIM%2BQRXpeZp4m0LuMpUr9enX9IRDDC8fiaBrLeeTywfUcjyVyLSUwIdD9iBbbg9HnqPjTj2IuehNKvmY4GqmJ3VOQ4cPAueNr87IiOPBrkVjshF8kdtLqcxbUeZw%3D%3D%7Ctkp%3ABk9SR4q9qoO6Yw\n",
      "https://www.ebay.it/itm/276347730998?itmmeta=01HQ83AKSZC7ZN85J1GFSZC8H1&hash=item40579bbc36:g:8L4AAOSw~K1l1vqz&itmprp=enc%3AAQAIAAAA4Ns%2B9cusmJOTGG6CEWyHURO%2FD5rgD2tYvlPsqPUuyFhBDRGFW0wnb2uec8f0Ho1wVybAP0yH3BLbwlNbiyD%2Bb4%2FXQyY5WxGbai9zc8tSb5%2B3pP7ttV74%2FmAEAkS4D4xgOqVt3qBBbXdoG8Ec%2FUXESu9H8m%2BRKICqzJv6HlpFzicXMx4FvlmFxAuKmYjc3e4jfTm%2Bfd%2FE687owqvNZ5ubkOhZMeElu5XnhHWH0%2F6tyK5QLwPDPtQSZoYxUyCEEQgcIclayEqBHEhYCQz7ePoKRmZqgjjn0DchIl2BsfsGs3zQ%7Ctkp%3ABFBMir2qg7pj\n",
      "https://www.ebay.it/itm/305408170523?itmmeta=01HQ83AKSZBFMR3EM6YBJX4PPF&hash=item471bbeda1b:g:aeQAAOSwqGll1hrS&itmprp=enc%3AAQAIAAAA4GyChRWoIZOYOBip7xUMAXIZwXctQejgKMwfNFgG9xfYpOjmykSfvVWLRrHFD8DERl1Y4eTFtmzWwQGcyozwSJEiNeXUjN67S4OWC8SuycbIDSMHjyiEU8ZtCxPbgX3f%2BiaKasdXNtPFI56T2PB%2B5MNriVIjZkBkHEWhjy5NalOSGqDDq2bQBAwXyKIlRKS3BK1Q64IuvpdusJCnQmkpxTo%2B26knC76KIkoEqL3BySloUQRCg%2FckU%2Fbsg9JovjuqmKj1FAXYsvi6WwkQR7Qmpfn%2FHBBFWIfwDWAN3PYLqn9J%7Ctkp%3ABk9SR4q9qoO6Yw\n",
      "https://www.ebay.it/itm/176246688186?itmmeta=01HQ83AKSZXBBPN4R3H9ZWFCMP&hash=item29091f09ba:g:l-kAAOSw80llvQwP&itmprp=enc%3AAQAIAAAA4FrYnOR8fbDMvsxOBOvaQZvHbPdOed090grHClbEesu1JPqGAGKcOUug1GmAa8u9e1BoB5PRKr3eZNiYnrgycqr6Kc853fokYGmtB3%2B0pJPx3yGEkwGNsn7fNBt2S8Y3XZ%2BaOEpgpR8%2FxVVTolTOvQV%2BZcAL4xPJCkOZxNEuXv%2B7ZvXkYGp%2F29t2pfoY392rpKF%2F25bRgBFf2zruw56dFz0s6h64MW9rYnYA70KkVmx2u%2FapMBJ5YITRgGUxka7V%2FY8z%2By1ORTbylxYg54kJmv3w0w3Hs0DG--icu8niCdZK%7Ctkp%3ABk9SR4q9qoO6Yw\n",
      "https://www.ebay.it/itm/276268635305?itmmeta=01HQ83AKSZM8G1T5VK4VYFM98B&hash=item4052e4d4a9:g:r2kAAOSwLjFlmUXg&itmprp=enc%3AAQAIAAAA4Jr8tMvDY9%2FOUGHSVk9HTSKTFUswWtjsnXcNNWKLJm4kaAIav7pxAH%2BB%2BLnQwtgLhldkWQD20tnQj3TXljrXHRuroC0MQZMbnXIAy7dMnIvnUuBSrZdwZbYXaWvNiiOfDhhZZ1ojpn9BrKUw8rS7HtI9wfrzRHpvY9F9OmjkxJnS7vbC6aK7CDlQ%2FY0o004XdwJdGajL8LA25YNeRcXIJYvGLKpgq1yqqkCI8WquYVfiIGnsDoAojX9ZmWdnF7GUkukbSD59TW%2BEcxefHUybbMFs9ddwJFXzSKJ3esaUpaIg%7Ctkp%3ABk9SR4q9qoO6Yw\n",
      "https://www.ebay.it/itm/285707903567?itmmeta=01HQ83AKSZTJ67MR1TK14K4BGG&hash=item428584a24f:g:smAAAOSwD-Blz7Zs&itmprp=enc%3AAQAIAAAA4LSX9sqJono2eKGoLSgsc7n6Dh95JIMn60OEcyq3mt6W3OfbePGo8brVivJVbjD6ItAU%2BfH1RXyGp3UVfD5N41qGK5h4b4P1WUFC3tziBIuf4%2BaLZr6%2FvEEtePQeH7EPhlZ%2BjJSf3blgZ28RkHLmIvct%2B0v62ci40yVjdrtNnzQ5QdiQ4KxXN%2B4rs%2FcSnRfPi0w2zQvP4%2FmMA6lOfL79xa2JQncx9uNhhVTRTdLx%2BYOQwzKkgFIq3UDZwSyZlQzxXqcdpfVkSysBvjc3EyoWHEknUxaQr35I8ZsgVj6thEH3%7Ctkp%3ABk9SR4y9qoO6Yw\n",
      "https://www.ebay.it/itm/364747383738?itmmeta=01HQ83AKT0MBVNHQZR4BZSVD4W&hash=item54eca363ba:g:Xx8AAOSw-kZl1wUI&itmprp=enc%3AAQAIAAAA4IKIxRqjSFYtXv%2FWdDXFG9Sm3xcce7l2px7GtFpSJ4JEe%2Fxowycf5%2BcX3f7pr3%2FeitFZIpFOgEhZlE5K%2BmAvJguiXECERk0BMXBR%2BSpSZvBCazY%2FUS%2BgLAmwtbjIwLll7UeXdlzfDWtfjw9RjG5jTJFERUo1xlj%2FUq27zZYYhMOsf18PTAYfdwiKhxlJ6Cvl66IkOPuTXz%2FhfjVD5zRx9uw40laLmzTTm4E5EKnbBWXZzAkXICRPHmInNPvo997u9jLec3DA1v0q7gweTfWQHEDFzkhCNflGIKI%2BC9k0GiGp%7Ctkp%3ABk9SR4y9qoO6Yw\n",
      "https://www.ebay.it/itm/296215123491?itmmeta=01HQ83AKT00CJABY38A9FAG0HX&hash=item44f7cc1623:g:FYkAAOSwi1BlxleQ&itmprp=enc%3AAQAIAAAA4HJNw7OxeUB9sWaA2zdmzJyiQavFquiKxgWSrUDV7JvAiGiOTbPyBh2Y32393UwqIXxzqPy3GDyjhN56gGmrmK7whEYbAiwfqVkXOEg2xya%2FzUcKX1K36a5MCGsSv2VhEbbIFZDSm%2FGGa2btPseNSR3YxhCtpBV77XrdLIpAZ0CfmXJU228Ua7N%2B1N2%2FwBhtP9HpuonA325%2BCoFmSyhE%2FAQtohFIk%2FbQR6Qn7c7V2xE%2Bd%2FWg%2B7RoJBYFIGhseMgOnEWo0kpgVgjz0Ic%2F7cK66DGr1m5bv9LTHpDN4lfwJMYH%7Ctkp%3ABk9SR4y9qoO6Yw\n",
      "https://www.ebay.it/itm/186264699591?itmmeta=01HQ83AKT0QQAJF75Y0YHW0HSF&hash=item2b5e3dc2c7:g:x2EAAOSwj-Flrqsd&itmprp=enc%3AAQAIAAAAwOARc4OvGbWAd68OiDACiDq9ZMl0u73FIXB9HQWDVEPDclw2ay9cHvBZ1Igc44DoL73ZTieYSzKP%2B1AUEBHChyZsURtByM2O2PzzicbtRtqRd2N4zFCaGrhWusWcOhehIwbYUwcBBkzVKYF55esZ8PO6H3Lmgs%2F9x5%2B4LwdvMDN7fUgn7qaGSu32cr6KGpIGHbB1hzpD6VX6vsUOwzq9EuSdVLt7hYJX0ImBXQo%2FmEwvItgk%2BXe6Ou%2BXgeoaDNJtvg%3D%3D%7Ctkp%3ABk9SR4y9qoO6Yw\n",
      "https://www.ebay.it/itm/276342217496?itmmeta=01HQ83AKT09EXF2RSX9S1C2S4F&hash=item4057479b18:g:ydsAAOSwsn5l0lRp&itmprp=enc%3AAQAIAAAA4EeduOtbEWU9nrrF1RtVt%2B2j69Xttp4UPzipU%2BivAqMJXKcD9H0XWbbwn%2BX%2FDQ2em0ut5rt2RVfmGAE8nVIEW47ZkUahJ8IrNp%2Bt1TQbAFCNCUMtZOkHIBhupowE3UluFXefUzdtfjRREgwdv8U1LYwOnJG8GCjZiCcxVBK4bC4GG8hECPUjm1hJ2B5aJO7F78YZ%2B9TGTKMhsMmQMN0pTqoiVPJ7T%2B3wEKfJhLPMzRUo8i3g7Icez65LBRSUJ%2FyNHJjj%2BgTH0XQQZvIafNwCvpC1ABKLqGEI9bq19C4OWez%2F%7Ctkp%3ABk9SR4y9qoO6Yw\n",
      "https://www.ebay.it/itm/144996308873?itmmeta=01HQ83AKT09QNGE53J0MG4ZBM6&hash=item21c2741789:g:bYgAAOSweXNkGJLX&itmprp=enc%3AAQAIAAAAwJWKpmI%2BngXdKGi%2FyVmWhwY99fCztBXkG5HDRHGf0qvJNIDGEwEZqVy0qtFBVoJURFuknxG8IsQGj1EKOurGR3Y0ozFo5FxxM%2BmC91J6oG8cLUSuX6Q7PiMEAUhQiF8x7CdCZrVvGBaAULnid1truJte34U0s95xCmv9cx9S%2FSYrIfGIN%2FKZFcjdRhOs0jlHOqTk3DCtxEDq8tn57ZMAb097POnlNg0aquVsMDXZVGfkonwvs6oa9pJj%2BEmar4YuRQ%3D%3D%7Ctkp%3ABk9SR4y9qoO6Yw\n",
      "https://www.ebay.it/itm/235442029417?itmmeta=01HQ83AKT0HBW63D0T39Y3YRM7&hash=item36d1704369:g:hHoAAOSwmoZl1RxA&itmprp=enc%3AAQAIAAAAwDAw2sS5ePRoXTG0r7Hkto%2BoKdYPYadQRnAoxp8tj6h33I7n%2FrAJ%2FtvUr7SRbOdTNta1EnH%2Fp0mZUTBmaa72mPPxhHduKDLUl2QkIMPr1YI%2Fg4Zt2p9a2iaDQw9PqxkpV6xWrkxgyiSli7cfnmx1RsL1d4ZC6QzcyNTzVJwXdLVg9SJfgSnhVlB8%2BbAnKEFFHYfaZI%2BEmVTo3Whq6sOItPxsVyqBuxdbqce%2FJ2bkdF%2Fq%2Fid%2F41RNn%2FP6GOroxPpt%2Fw%3D%3D%7Ctkp%3ABk9SR4y9qoO6Yw\n",
      "https://www.ebay.it/itm/196248730772?itmmeta=01HQ83AKT0BVVF596PC56BRQ31&hash=item2db155fc94:g:02AAAOSwoahlzpdC&itmprp=enc%3AAQAIAAAA4MWGw632mnWboBf3oGDWlP%2Bjs7uVZ6osC9GJMALpteInjeIY%2Bi4xf7pVHFLzTov%2FmICzDz05PxwcQ17N2fsdd6kZxpE6FpTp0wdSwJi9pOpP%2F3AP436WpZFHwS39OK5jeZDe%2FnX8DiFyT29Rx9%2Fpakbyq%2F%2Bcl11tva9KJVn9qZb%2F%2BL9MKaW9RxJu%2BBYsnspiPLTvWzsCq3KzB0ubZMYvI1O3rVgVEw0mp3d0FdgmQhQmueRgdanlwhCq62NOb1EGizf1%2Bh4BE4ZFX1nuiEpUs83Q%2FbzTTY2UgdZMsG%2FFc%2FYP%7Ctkp%3ABk9SR4y9qoO6Yw\n",
      "https://www.ebay.it/itm/355473851807?itmmeta=01HQ83AKT0PRTW48MKNYD5NJBX&hash=item52c3e4859f:g:CSUAAOSw8a1lz41y&itmprp=enc%3AAQAIAAAA4Eyc%2BC9apqpQYb%2BaCVSpjRTAHDpob%2F%2BaLMXrNRM5wm8OOXZ8Y5ik65nXcH9KY0Z%2FhKKAC900yBG3cVd3PbKrPz4Rg1BE49r0%2B0P1XuY0q%2FJ%2Bn69Bh6vc8DdYo7ITyGzB4kuxcB2VS%2BQCyopYwJTnskumk%2BKks7qYElbbQCmhwRRCFgHnn9CR6eX9BhLgh2A0NZMvJ4UIdOIPRCnTgHRBBhtUd3FfY%2FlVEeFSg6NkWfPcAS3OCUOxW3KdUMNftmi2dAzS3cT2fmG1izxgK22o0IAs4Gla6djCdNZZ9aSPZpG4%7Ctkp%3ABk9SR4y9qoO6Yw\n",
      "https://www.ebay.it/itm/256308559712?itmmeta=01HQ83AKT0A2DEKMQ6TVCVGJ2E&hash=item3bad2e3f60:g:xOcAAOSwzvVlXK25&itmprp=enc%3AAQAIAAAAwAdd0CleqKhVxNsp%2Fg6Yj456NWCJWcDXhxuA8sWFNBTZtIOb7XE9lImrAOpnmT5dOrd9lWC6xegISdomVEa3FYQHgO2cdQpHofM9faps%2F9BlKRu%2BPWvcU21MbxNFhrA3L0qYuywVAlSZ%2FEsXJMBG9yKmsjBjC3xA%2FzKco8R4xs4tQdF4R32N%2FS4uH8VuBYJDj6FulyFVUfu2Fk8umTnq%2Fxo4aiTPuE5BemNw8eRR4BRTzUzIDACW0ltiBmGWkUpMUw%3D%3D%7Ctkp%3ABk9SR4y9qoO6Yw\n",
      "https://www.ebay.it/itm/156074961278?itmmeta=01HQ83AKT07PK5704MX66PRX9Y&hash=item2456cae97e:g:g4UAAOSwCdll1kvy&itmprp=enc%3AAQAIAAAA4LPcg2xFMKDvQpYYpOfSCQef36vm%2Fznoc6fNQEd%2FscOP0oLtzGkFwQsjUSbfzIo3AbiUgG2tHWf2Q30D%2FhGBb3tjeScxeovF5qyGWW3Qc1krSdz3evhNskNsGFLPsWtjXgoz34bzumG3Aru6u6dXPPJ8fKuYhz2FmJaTgB5oEdbKCI%2FrPfi%2FEGONCk1shuz%2FbjTIax1F04GCvRGUWrDSiK1zA8lvwqvjxmt8s3PYu4wDmiZXipsVX91UDa52RX1nvRpgLp71paAV3%2FDTz88WxKbXPXYU27rmonndIJagzlTr%7Ctkp%3ABk9SR4y9qoO6Yw\n",
      "https://www.ebay.it/itm/145625842674?itmmeta=01HQ83AKT0G9KFW1XTK18E7N40&hash=item21e7fa03f2:g:-a0AAOSwRLhl0RjW&itmprp=enc%3AAQAIAAAA4Ibt3qmrj16AtFmSPrFbE1FB6fD2v%2B4tGSVStQFE28T6XEmzRgGAq8vx1bDQnAgBYJPlJgQF%2FKWfhJSO%2FfRZNGy7oaWI6oerW3w5W1rWp2H3%2FTXbfBPca0adSUOUVY%2F9iUb%2FLGFqoANWm2H%2BcIGow3HCUxomosIU8N5fUweyL7OJ6kNj67oQDt23YfZ6pMkn3%2FRPjUj2kMNLew20WWuGpTvd8Ctpx6UjhuMBoftHP%2FxmspsjW%2BaPYBoWg278xXGunqC%2FWgtUEiaGSIRMnSB5fkorBHsuS2eif6G86KisSk0m%7Ctkp%3ABFBMjL2qg7pj\n",
      "https://www.ebay.it/itm/166603563758?itmmeta=01HQ83AKT015N91AGR7BSHSZNJ&hash=item26ca58a2ee:g:Po0AAOSwYFNlx2YL&itmprp=enc%3AAQAIAAAA4H75dZSl6OneG4KcU2YGizErULxdK%2BIQyRS0EWQ6dcsY4iTeWf%2BAzgjZ5%2BUzovrDzFBHBmIJBL14V5t6L1GlU2uDirtR3yW2wAqb9DFkh%2BNz%2B4jdmywZ%2BbaC48C%2F0LJGS9dBdgb0gd%2B283xA8v4oUiu7NvIKYmbqhk2onap9B8jGqIdpf%2FO5QioOWITggepD5cHzzj5fgdhY7I0q6wJtThuRigV3w98YFEdnsHuqJyePYiJJZ50bJRX9dmy1IvyqdpeyMQTw2tncwBSh%2F7I8b9Z%2F1hmqUl%2FkMMj1qOJSl9UF%7Ctkp%3ABFBMjL2qg7pj\n",
      "https://www.ebay.it/itm/386782690049?itmmeta=01HQ83AKT0B7Y3XDJQ4ANPZ1XJ&hash=item5a0e0b7b01:g:rmYAAOSwCltlzx4A&itmprp=enc%3AAQAIAAAA4N7hAy4TKs3cqYFBZB16B5t7PAVDXYMm55rdmedLhK3LSNCXqO3k0cdD0aT9ATIA2td5JGT%2FLeeMGRO4wa5%2BaMprnfmGDdnPPJa1I1MCu5A0RZXfaKruB2d0YxEHRlUgLQpTwskcpUM5MEKIrfsZ3ysqyWGRfxtfY09Tp9Lr3FngyaJYsO4GYvxS6Lgu%2BenrqAxYPGUWEKhCCfVuH%2BiyKrLYK2XXHFNBIz7ZL9X%2BcyW1hilNWdUp5n%2FP7yQjoHDVocwsZ%2BIOWZJgg0Y8EK8VXxjQZOMLlS7pRLS2cws1XGps%7Ctkp%3ABk9SR4y9qoO6Yw\n",
      "https://www.ebay.it/itm/186309421004?itmmeta=01HQ83AKT0HPWH3P836R55VFQF&hash=item2b60e827cc:g:0OUAAOSwsJJlwWpW&itmprp=enc%3AAQAIAAAAwFs29CJDN3zkiVQb6MfNvAv6eu4Us57XD960skGmhNPqpdiuJnE7Hf9%2FkK9qvIckf3R45xbc64LwyXXOFBdpQvqi2%2BojS%2F9cE3OZnVqb8u19bu1UxA8iHTGfF87R07io4oxJStFr3sDaRQRtPPmp7JHcQ9zNAsjxj%2FQep5idZGjPhKKKao9HbXVr2Gi46NTbLiyyjWT1hbEZESrSWDBD15w24WYuZU3GdG1iBDwFrFxc0qgaYTQ%2FTcUSxTkqHfNYIQ%3D%3D%7Ctkp%3ABk9SR4y9qoO6Yw\n",
      "https://www.ebay.it/itm/154386095050?itmmeta=01HQ83AKT00WENW0GM34408F8Q&hash=item23f220dbca:g:Dl8AAOSwGwpiyAoq&itmprp=enc%3AAQAIAAAA4FOcXA6oRkFaLxFI6DZLCev4oSx6sOShQAx7KmpQBM2eGi4ZGK7V45wEU%2BdClW9HxgkiuOlsiIN2HSDUXgJ56FD6Cu1kwavP59XLKy8Pd%2F2XmIMVnQYuqctQIi1OACkDiSUjVQWAUNgSQ4chmenkgHNIY571rU2bIGI72peZZ1SqhzlImW7ZzeExBgjUP8ZhenZbnt%2BE4A37CcMJVvN2%2BoLI5UmhIw0VQe6QAHLCTO69ShBj%2FM1DhU6UhZgd12P3bJuIq5c1kdb35GDYrYiwQWpt7W2kQGNJ2ycrbeRPV5q4%7Ctkp%3ABk9SR4y9qoO6Yw\n",
      "https://www.ebay.it/itm/276322608020?itmmeta=01HQ83AKT0RTM9H66BGWHVZ2PK&hash=item40561c6394:g:RNUAAOSwdfVlwps~&itmprp=enc%3AAQAIAAAA4PMFbtj6ihMnGyPrcKxA8WB%2BKwSL1%2FT8VgcPE8J8scmKyp4zoXWMrkmR%2FTFqVPy%2FiGC2zxzTjwtyyGROYQXQYvQ7CXohT%2B%2FY9h5sQxhnfMaRrNXiBthoCvrzqwRy0HIQ6o1XEkFskDhClY9zDp0dQv3pMFvhLqc6fpmi68PkY5za%2B%2B%2Fw3glTOns8e7krPSSCangNGHgMnDus%2BUTpnkKDVMQ8DdlTvTX0hEF%2F0MPRnpBfO948p4JZ1isLQqJDOACiSv930hgK7NuRkf2GU%2BWhWKVjvs3TAXMNSXjss6pdLTee%7Ctkp%3ABk9SR4y9qoO6Yw\n",
      "https://www.ebay.it/itm/295981737177?itmmeta=01HQ83AKT0N74CHSM4K29226JT&hash=item44e9e2e4d9:g:p1QAAOSwIBBlJqnH&itmprp=enc%3AAQAIAAAAwPoD1COi65Nx34aVYnmi30s7jRHg2spN6fkhbJQRx7kbVjZyuV%2BWbdjSHkjBn4bj%2FGKOpIfwE3UFqTgngbN%2FqRgpro2ASDkEiyUzms1cdBNu4ujpCNxcJApdOt8N70%2BsGuojF41dzLycVKCoqSWkQqplll3dTAO%2FLMIbHqUzzQBJildXcmv1s3H%2BLG6qR%2FSMwiJfq40wK2yb7bsG58YImIqL4Ui33%2F4Z6DOAIV3rWyCpA6myNhCWqEv7%2FmpoA7gapg%3D%3D%7Ctkp%3ABk9SR4y9qoO6Yw\n",
      "https://www.ebay.it/itm/166480720416?itmmeta=01HQ83AKT0YH9JF1Q29V08DCJN&hash=item26c3063220:g:ONsAAOSwJFllb3Pw&itmprp=enc%3AAQAIAAAAwJ2rSbS3PyWHdEQRnzPyYjnngHD%2BwchC6qjFjmjaGM23cyz%2BoxXqQg98iPvkwP4XYUytdwLpkxklYKLxDpGFzvyGPgv2qUEk03pRV8hZ8lCUMvYqFDK%2BwH%2BIEonY1p9b71i2HeK0Nw70YSv4Bbb1O6KmkRJil1bIcAF4dsMP9jY24syl5VRWZzPAlsV6vDVDEBf67geQVwADIWJjk5ADQQaE1OrK0RAzSOwVJSshz9fUhTNz4aREzjItrvYX5W%2BxfQ%3D%3D%7Ctkp%3ABk9SR469qoO6Yw\n",
      "https://www.ebay.it/itm/386790484378?itmmeta=01HQ83AKT06YCBKS7YT1JFBKA3&hash=item5a0e82699a:g:LzsAAOSwho1l0mqQ&itmprp=enc%3AAQAIAAAA4EiWwbdkzSZcHP2VaBxaRud3dA2p%2BLi%2BeTu1VvV8XcJcAV4xrHcQEn80I8tPBnpyeafbRVXvE3cFdgaoaa9sE2bh0ayiVmFsgEZ06CBArWB8Ws6LiUafFwRLSBsi9jexuE%2BhKb8qWkBHQqINoHkvZ5gwVVmMAGg2W%2BHpbKA1DU0NOFp5Vbyf7KPG2GWf7Nu8KjsIBEyFvJ9nb1jCKsvM6WNu%2Ft2%2FNDM1KcmFwOynXeXh6G2rLVQikEHECLmrGYS%2B5F%2Bi8ctDfOfeY5R2gQMTY4LkkbLTsRc8qovFOnQJX23U%7Ctkp%3ABk9SR469qoO6Yw\n",
      "https://www.ebay.it/itm/126296869643?itmmeta=01HQ83AKT00T35E1JNTQ93W0J1&hash=item1d67e14b0b:g:1UEAAOSwvDBlsGCT&itmprp=enc%3AAQAIAAAAwCRa5eqoBRhL4UBWjl1Czg07BqxIqR1Vm67mgrHEsX71TYraTcOQvS67RjX33aAY1BXeCX5uhTah3arH9Ocomi2nLB5KlgverDnNfYkQh9f3hp9DQvUDND63iISZnMfaBor0UdRk93QgWSeJ4S8R%2BLi%2BUlR4JDln0XavtykIIwPBSjUqgRGW9wUhn7H1wRw%2BlWb9c7bNHbcPn909eHo6XJztowsnGJucZq20dPw47MKCYJnmDbuLTZTG2TCZBjlwMg%3D%3D%7Ctkp%3ABk9SR469qoO6Yw\n",
      "https://www.ebay.it/itm/335222277279?itmmeta=01HQ83AKT0NRXTW4W7HD5BEZ71&hash=item4e0cce049f:g:yaIAAOSwOg5lpDcx&itmprp=enc%3AAQAIAAAA4B6BhrGnVC8DtDtL7Mwc%2BGRhuhF3fmvNPK8w7EaSfLy8SzmQcX7oOraoNsnXd48X46wp1Hs1vR%2BgMt8IMv4SBGubbEALKf5y0mVsdAY%2Biqib42QQ8WezpySDD57QgTXdR1LktvsXiJmB1HnWX8m19Axw0VxMXFPDGqBMjCYQbhHuskZtJZy0%2BDYmANFG9ilixUNIGEmtzHxs50ijdYPjlt9NhGS70IxuHa7IVdXeyqycgmA0edLtWrPZ4cJRwHKRiKUut5fYbGHniiL2wPqr4reFwl8C7gU3qdNYmq6H3HBR%7Ctkp%3ABFBMjr2qg7pj\n",
      "https://www.ebay.it/itm/295981864441?itmmeta=01HQ83AKT06T3A8HG15SJ3NF77&hash=item44e9e4d5f9:g:-gAAAOSwbDFlJrcR&itmprp=enc%3AAQAIAAAA4BJe%2FoKVKQfLQl%2FOQ9Cp5KGGMIYIUZgbiSg9RE%2BveDc1Dm5fI88quc1bGR2vMxoPL3Xefi5ADUEu2pFzvuRxVBRbsv2ZRCqDc5UMij4DxSnaMp4kMDgiv3d2J2AUTvKuljRqH5Dot0U6tWgVXI9q4fx94hvdik8znhREolepDaTDERT0nCY6G5hqdXT3EvBu7s8s1%2FUKLQHMcsWQBjU%2Fu2fp2Qqtq%2B0dCKWnBq7Ad2LReRJYi6CxvkdqGP%2F7lnYzEoljxehyHL4er54prxWxO9hXsc2pZnGx9I4EafSfJOI6%7Ctkp%3ABk9SR469qoO6Yw\n",
      "https://www.ebay.it/itm/404812467776?itmmeta=01HQ83AKT0G5FM4VS9H5XJM173&hash=item5e40b40e40:g:O4EAAOSwSHpl1kRq&itmprp=enc%3AAQAIAAAAwER7FmOfYCP1FtellgGIPKYt09esMxMvJCWbVD1PI0kn5yUoMkhFy%2BZBW0vuQG96FZtQ3AHlcGL4DgIuPPJpxAApcEvzTIXbPCZDHiWu7C0DSmuwq42B1DeCWbZiJIF02U1uwWAye2oVz6FZi494TwBN6nhpBYRK%2BQ5ENRIgpXnAfzVbCtEsh4wfmaaNWb8%2FzhFlaxBb%2BtKnqB5w0--mOnOrzLa8SPXN9MoEmB3hsJzA8o9xoho0F3SoOOtTBixHgA%3D%3D%7Ctkp%3ABk9SR469qoO6Yw\n",
      "https://www.ebay.it/itm/326018050218?itmmeta=01HQ83AKT0SSF0VNWAQAHGQYWZ&hash=item4be830a8aa:g:ixsAAOSwYOxl06Nf&itmprp=enc%3AAQAIAAAA4AKb%2BpnFTa1OGA9hTv9h7%2FV%2ByR%2Bt%2FJ8KUJTZuOHm2Usz010xY%2BR1rVmpzwia0h6FGWazGJYB%2BYjOJ%2B3ow4UhOoUJBQ3m4SvDEH0X11qst871kp44MwKrjkqpaYg0Slgcwq7jGFiyBDgHI%2BK4IloS0VA4IJbLUX5GtLgrQRPuxna%2BRhKLI4dl%2FaoDAoOunBMSAO9jG3OMh8%2FeKaSRvnu1sSwxQOFMYm1FIow9PPhf6rEA%2FQXfPL6J5iOdAOUZzK0DAhiI1hfh1C3WNEoTN5wqjkKn9%2FXPB%2BsZbAI7o2m5Fqn6%7Ctkp%3ABk9SR469qoO6Yw\n",
      "https://www.ebay.it/itm/404812504362?itmmeta=01HQ83AKT0WKF7WXYVQD4ZRQW8&hash=item5e40b49d2a:g:0lIAAOSwi4xl1qR-&itmprp=enc%3AAQAIAAAAwJ2SSZY7RH9uENnjkTzlcbDjN%2BKBwYG1WUHYL57zaXM38wIvsMFEtOL7T%2BBgPi%2Bs69oSRBbK7eCNEBGCN6anLkjBTSAW%2Fuo3mus3AdmDUzBUc8JNkax88iXhn%2Bwtedfmpct4d82iYx7n%2FjL85JagueTcCpb715z4N%2Bg%2FaRs5NvBFs2M%2BhwBItDWjqqSof5mxbOsAfisX4XiyDWXT7zBj%2FuSgMJ2AmN0nxu9PEDEvWAlNSd69dO5zqVDe7MjaTrf0yQ%3D%3D%7Ctkp%3ABk9SR469qoO6Yw\n",
      "https://www.ebay.it/itm/375269655508?itmmeta=01HQ83AKT09P4VK5JFB9X490DJ&hash=item575fd083d4:g:aTUAAOSwsTVl1g~R&itmprp=enc%3AAQAIAAAAwAvgdvV3OOzxuEfsgIngmU2MLleGBKploHXW76sY1JOi9aC%2BBqAqC3WQcBshOLnV3JhIsnqA3peC9Basr1yY3TXJjZ%2Fl2h%2BN0Wf2CXwImvG%2BhM8OaGpdHVhnoG3ob2u2V%2F%2Bc%2FtU48Vv%2BGEbX0OiQtw715w7K8HlacAg2SR6JBXa%2B8os9afvNHjXailv88wplhWHBxF2SYfhOdeJAvgP08D%2B2M6KRCbmm4Ys57--bVkAtLvciVsRFOK9dBRLXZ4drMg%3D%3D%7Ctkp%3ABk9SR469qoO6Yw\n",
      "https://www.ebay.it/itm/386777505473?itmmeta=01HQ83AKT0X2KP4Q319TV8WJ5P&hash=item5a0dbc5ec1:g:hpUAAOSwsvtlzZR6&itmprp=enc%3AAQAIAAAAwHUENf36w0bsnPpcChQ7R0E0U3TW1vQaGgZfACeceqaLMmbqlBDqOJPzXoG39HKuhYZRR7%2BjaGTcSGH62hEvjeiRiZcVtxUQIpEUxQsrFvX3I5Zw66VNUaqSlpEAj%2F56ZPgRNlM9aKunmS43rGRUE0jitFP1LGGro5sVRA0H8EN6SkAOA0QZ4nuJj9hW1SfEDQTSigD6MAVByy7mFWemkipRVUx7Elyitv%2BULZ5ZxMc0Vidc%2F6P%2FRx%2FR5WdVOKDtMw%3D%3D%7Ctkp%3ABk9SR469qoO6Yw\n",
      "https://www.ebay.it/itm/235387600935?itmmeta=01HQ83AKT0K45Y6NFSAGN90XSY&hash=item36ce31c027:g:zi0AAOSwpBVlolGG&itmprp=enc%3AAQAIAAAAwD%2BgKIvYiV1Zw4uEHrG6ZLfKDngCrEWzf5%2BVSC%2BsriEtwsCLwCJEFpBYpYymJeSooM8hHfcG8YTUBwV7C6STm2uLrMSLaFwrxwwZZN31ZtjEQW3Yku%2BA97FsXQPh%2BcRxz0SKhRVT1BQPyit27L7rfWaxCmc3ViedtWrK5%2FuJS9DMDoX3raRyca%2BkA1Ur%2F8H5tm7AZ00LgE7a9IJ2kok2RdhnJs4uEOL7VjgIAhf2VgtIAkT1a7H8LMHwXZu6f7AazA%3D%3D%7Ctkp%3ABk9SR469qoO6Yw\n",
      "https://www.ebay.it/itm/266646130017?itmmeta=01HQ83AKT01DXAX4WNV01WNSDB&hash=item3e15590d61:g:nr0AAOSwjaBluinu&itmprp=enc%3AAQAIAAAAwA8S7jdVICsaf7EqcEPSpSbBA7Ir7rK891AlMgkbjoaEnt3Mf8tJpUa61UVcUNtsIRhGd0boiPaNnCtKk4Sh22GmfjtVeXx3Yi%2Bm3VGbsqm%2BIIQqorKiGygJzU4MBrnzIiW8B4awqKvpWZzPzQeetjngM8bsAqnb6EulgXFLefUxZMhIGsdd3ooOAZ9dZK4VaLohgP5ssfpuHiVOgspoaeVe092NbSlpX070Y4jlKw%2FlJrIz2sH9CEJl6TJdetuM%2FA%3D%3D%7Ctkp%3ABk9SR469qoO6Yw\n",
      "https://www.ebay.it/itm/355427191036?itmmeta=01HQ83AKT0KZ8JTV45BD07GHPK&hash=item52c11c88fc:g:x2EAAOSwNXZlz9oK&itmprp=enc%3AAQAIAAAA4ArnxVS69fbO%2FCqXfUGR9bRawmz7v%2BrlFCQYsJtJZTu%2FdLUQ6OTca5acHKLUIY9P%2FyIHXXLM5qkVNdIax%2B%2B%2BMydnPKvUSpxo%2FRhEZl0HmKQKKO3oN8OLTBZtzZRkuGbaItfoVTzcAGCaQmaj6HI4GG23BUmEzzf%2FqJujzzYrnkvDqNpfmqq%2FTFVQKTM7Q6pamWM3oakBOfudAysSbGSYK%2Fm4nHHlEDa%2Bh%2FK3EpZWO8TAZ7AbHxMLdGI9LegI9WwdHFI8wJRdAX5zljgrZxHq5sUT5gEDTbA%2BkLR5AWBAhEeC%7Ctkp%3ABk9SR469qoO6Yw\n",
      "https://www.ebay.it/itm/364736478785?itmmeta=01HQ83AKT0H0BPEMB5K032PS1K&hash=item54ebfcfe41:g:P3QAAOSwbSFlzlh-&itmprp=enc%3AAQAIAAAA4MlqwQcUeeMthzcmCRBC546Vmkd9rrBySIYdFka1wwnLLCZ%2BwIs5UxGqTlCTdlPhObwl6B6xNUspX15vwiUp6v%2BzIKVnX871b0Mt4uLRlyxjZOzzdJw%2Bshv%2Ba4x0n7kaBFKZzha6QTT4GFFmw97gpOxRDAzxS%2BKB0N1QdoqFd1MHP3rucEF7KEWXR%2BFvn671le7jEltq%2BB%2BN25ewBOfAKfNgMF6jij1qm1snBWLYoY%2BZ%2Bt8OFky9uMxhjzaab0SBtEFq9HFiowf0Trg0tT9XUvUQYQIZgBL6B8Gk%2B0E8nXeN%7Ctkp%3ABk9SR469qoO6Yw\n",
      "https://www.ebay.it/itm/235389193701?itmmeta=01HQ83AKT0XEQJ34XGVTWVPJ8R&hash=item36ce4a0de5:g:R6oAAOSwlF9ln9qz&itmprp=enc%3AAQAIAAAAwON2THJla4cdE2oqk0649bsn05A2vPVvSNZPm85Go%2FwGahVm%2BZbXm%2Brm6gRmxuqaTZ8jYlEwje9BBJglcdfnDmk9gRTeuRE9j6FmJCnFMQiIQK0gMvDXy4ao7ZRLBy00We%2FDtQ%2Ft0mFtCLmn3qr%2BRiOFs7PT9xaNM%2BZTkuciJjVAAsoPDPW5hTVgZV8%2BmVD8PDCVjyBC0xPEktD9gn8tCkqUl4aTXi7nhETIufAfGAuBZqW%2Fh7sJaB7dlwQBYKlrHQ%3D%3D%7Ctkp%3ABk9SR469qoO6Yw\n",
      "https://www.ebay.it/itm/296228687964?itmmeta=01HQ83AKT0X9YZPR552HZ3SCMQ&hash=item44f89b105c:g:IBwAAOSw01Zlz4WX&itmprp=enc%3AAQAIAAAAwNisZ9d8nvm0GdodmbU4eZGlkTjm4veiW%2BZRrWxxbP%2FebWSNRsxRZ8FuKuIOpeFoE2UWm0CvTjCNl4LNioN%2BZ6zdO5K9cuALtQePhfzl7xQOQQ90rD%2FaNBVIZsSMlMRM2Lp2N71tHJoTwJY0GjxK51wCeKrJVZWg272OAplL1pOqgmma9wsrQE2w%2B%2FkHld%2BivW7chPZ4ZnzeGfTm1zTfxe3xmmalK7FVGaiRhJPBMPRypieXuMvTA56%2FbPc3OTr3zw%3D%3D%7Ctkp%3ABk9SR469qoO6Yw\n",
      "https://www.ebay.it/itm/404810122422?itmmeta=01HQ83AKT1C1EFEJX6R1A933YM&hash=item5e409044b6:g:3aMAAOSwPetl1R6d&itmprp=enc%3AAQAIAAAAwGV36rQubaJvihsjnEFmfZCpWyhUdO8MRmuXo6NQTXDR61H7EoNmScFkEbFsI%2FlXpu%2BlL2K2wxZbivB7yVgJXEt1RSWVsy9GhgpIB1kJVMjWTjV%2B1jK806%2BsV16yCL0pXm2UlMwJMO5w4K2oa3xT7UoonaUmWb%2ByhhuPrH1dhrux5ovaIP%2Bd%2FRURGfU3Rexktmei%2BPDGlwV9JU6%2BMQSr5G%2BQa2uufzfbNHLayffgBZ1d1xQ%2B1qQKN2hOiPF5VNaZ4Q%3D%3D%7Ctkp%3ABk9SR469qoO6Yw\n",
      "https://www.ebay.it/itm/335261870017?itmmeta=01HQ83AKT13H34G16M423TV59Q&hash=item4e0f2a27c1:g:RQYAAOSw-xxlz~~j&itmprp=enc%3AAQAIAAAAwJbsnMxuhEUr2XJ1HispAqdIGglwK%2B9jnx2uwPKHxH3wbD%2FAtjPeT10Oq8Sjc%2BdCas8FUHTiRbs6HgPiLOaitlUHEKZxY6WAQNnbactu4ee7W6mfDiMCJBgXRfys2eAn2DMiGijFsCb5Rxcd155cBsgRztQMCZqV1LcWb4%2F2%2FVjJZm61G%2FVYYyt491Y3hVcEm04utEJSCburlc%2FtDIiE5QYo6yOKqN%2FzO%2B3a3IY8KSqB5SUSgFeR%2FUTvDG1u2TQQbg%3D%3D%7Ctkp%3ABk9SR469qoO6Yw\n",
      "https://www.ebay.it/itm/364737438806?itmmeta=01HQ83AKT1PJDGAB7RV9SQRX1V&hash=item54ec0ba456:g:wpEAAOSw8bxhH0~c&itmprp=enc%3AAQAIAAAA4B%2Fk6P4Nt7a%2FuGViI6%2FiySD4tBcpnBoak8LqhLEWsF1EqO%2BXrgUUn5UqTMzWndK%2FHX65S7ORTyC9N7nG5O8oNooCbTtIG8BrkJERUELJ%2Blq%2FbbaIr1USQUjMlTmNcnUxTwGKKTtyM%2F5I3XADx5mEryWKTxXeCIfrWzRrCU%2FF1sByYdVfzFl4RMo4Mrf2esjEAuvMM7duXQFSKYdvLOHt3ZokmxA2TAtKDLVMkg%2F5Yenz2sKZexkiEci7L%2Bbgnynx1kYHSCcxN2pt6ZBIKAHfSZ2vbiIhPA7UrvzfqEejcaVv%7Ctkp%3ABk9SR469qoO6Yw\n",
      "https://www.ebay.it/itm/176240882073?itmmeta=01HQ83AKT1HEF8WVYCZX2MGBGM&hash=item2908c67199:g:gA0AAOSwibRlzg71&itmprp=enc%3AAQAIAAAAwPh5wqIXGtwqECAodhwAxRwHmbuyZG9Gc2SVXndDz9907M0uKJdDscMwBJ9sYZlmAexMpvkATuFpzepSvP95q3RTojaVcISqVRoP%2FoRA%2FnsCQRCnNxye0htMy1KMzuL2Q9f%2Biz5aXlJIQZytLo4QNK%2BeI%2Bib5vOyMVb7jFn1oJgZLUj4%2FcIvMEfmkr1mmyRI8G92TSwoVx6mAWOVevv94UFJeshIle3xTI9NY%2BMjQ5fKe5PV0bPB3VoJqptb%2BBzA2g%3D%3D%7Ctkp%3ABk9SR5C9qoO6Yw\n",
      "https://www.ebay.it/itm/226011662651?itmmeta=01HQ83AKT1TJJSF9XCT5744M10&hash=item349f58493b:g:-DIAAOSwceNl1JAc&itmprp=enc%3AAQAIAAAAwAg%2BQNUQ2UYGrxKVhBDxApXYsiZLnTHSyfSKAJEtXGBtG%2B2KTbCZF5KCqgqZ0ZZBDhezgAoCELY4EVbB2disY2gEU1V9MyBmLQdZ6idRm22RIHpTc4Rgjillh%2FDpMjWspqXppK0durI%2FSDGECEVuTjKJSKQF1gfdgHPjDGxAK7GKNs6MTd3umPTi3dGUZdkGPKlVHQR6WTa8%2Bmi9HK%2BrsvosBaWT7yHkVqLVd9jQb3N0qSscDQQgV%2FkX3p2tH9e8Cg%3D%3D%7Ctkp%3ABk9SR5C9qoO6Yw\n",
      "https://www.ebay.it/itm/315167298485?itmmeta=01HQ83AKT1VTYYAGFGV171GTM6&hash=item49616f53b5:g:QUcAAOSw-GJl04gk&itmprp=enc%3AAQAIAAAAwLMqArN%2F5VcjbwgASxaExYOycd0EEGaYtcrTzeN6wLftD1OHgmQGcFE8zEDtUNhUK6h0y8gLUP9SVozve7jB%2B15n7E35b9MK9hWd0%2BDZUYmGaXBC1MDff3GBS0mg%2B5yhK6nd0c0t8F8L7fpec2RdAXtdH3DECp3OmeiwxXxBm3PfYTfggIUiWn1UQHlmscELDR6xkp15rbDl7u%2FQRDzub7jmouD%2FSh0flKc0AgKk%2FpH4aJscodJrbwcjceIAKfuD4g%3D%3D%7Ctkp%3ABk9SR5C9qoO6Yw\n",
      "https://www.ebay.it/itm/186278933306?itmmeta=01HQ83AKT16XS4J1Z14V5BXJFS&hash=item2b5f16f33a:g:2VgAAOSwYSBluofi&itmprp=enc%3AAQAIAAAAwAQpCafMgs6q%2BeT4lVYa00yN%2BknvJi7ZdcOpsarU1E9aAo64I%2BxrR0wKjpTilR6RjQ79Fhh1o6eWOj5rAuoYDlf48KckyIKtz10cXGhGak3u3%2B6M5UedL37nSd4GFFEWAEyIg%2BSsPNqbX2ADfpTtF1GjpEQ7kaJK%2BygDpRZT3XLElZcAd8Wfk8KrUsBHRd4LX4h4UUema1QSrb8qVgwoDP7uvQxAD5thtir0B0OGGx9oTTfgKTUBPqOGeBj2%2FVXqrw%3D%3D%7Ctkp%3ABk9SR5C9qoO6Yw\n",
      "https://www.ebay.it/itm/196231986470?itmmeta=01HQ83AKT1Z64J5Z5EEGFSZ779&hash=item2db0567d26:g:dfQAAOSwmGhlw4gh&itmprp=enc%3AAQAIAAAA4IlgGiBYfsw5cdAWi%2B4%2FfkqWYhpJXD4Zif%2FC%2BHvGXh3c5DpG%2FSCR0voExO9OnE81%2FRHFDH8Udp%2B70szXitTwtFRSnT62LDM%2BLz%2BOg9%2Fb29eFwmfrExWCARf%2BTtWPJuXfWrH3NM90FbTacRmInz4dbNj6m1RYLzFJL%2BbVmAkfYFtP%2BkkpV%2Bo4HxCva3%2F3rrexXVwFhpvIvePzss3vZbbFNJ4HagQWdIDYD3mYOSr4SKBDJQSsObhs%2FzLiRIUrLxJ0Wv%2B4ZqcDaji%2BSkcn9j18vi5Uf65sZrIvgvpv6IwcDETf%7Ctkp%3ABFBMkL2qg7pj\n",
      "https://www.ebay.it/itm/176250805998?itmmeta=01HQ83AKT1MF1Q0HJZ9TNMSPSZ&hash=item29095ddeee:g:lXUAAOSwEGpl1jl7&itmprp=enc%3AAQAIAAAA4Jo1Ttf101ZVgrTMrot0MrMH19c0FefyljDJQB5PX6TcWpp16r9fvrXiG6x46ZoZR2Oa%2FIzu7X0LjX360%2BQ%2FAgo1CPjUzwJcssPazyogWkZgqEQjMF8lwsfJr1A5LS%2BwEweuin%2FTtXl8kIfpOwDwW9CtXDxgKgkyTcPlOTpYxbHiLGdV4Rj7vvzhTnzztTt6HHamMO9%2FH%2BY9D8R9TuFRjTUEL9SkZw3q4aPOOp0avdz6dzXWwABA296FQMiM0wpnM5hnGS5c5u7gpX4kq0DxIVM11Uk4wNJFVls1MkAuYS%2FV%7Ctkp%3ABFBMkL2qg7pj\n"
     ]
    }
   ],
   "source": [
    "for link in links:\n",
    "    href = link.find(\"a\", class_=\"s-item__link\").get(\"href\")\n",
    "    print(href)"
   ]
  },
  {
   "cell_type": "code",
   "execution_count": 91,
   "id": "56bd1a93-265f-4706-8343-8733af275f27",
   "metadata": {},
   "outputs": [],
   "source": [
    "new_webpage = requests.get(href, headers=HEADERS)"
   ]
  },
  {
   "cell_type": "code",
   "execution_count": 92,
   "id": "17d633ca-ac9f-4a85-8f66-65fdf9734966",
   "metadata": {},
   "outputs": [
    {
     "data": {
      "text/plain": [
       "<Response [200]>"
      ]
     },
     "execution_count": 92,
     "metadata": {},
     "output_type": "execute_result"
    }
   ],
   "source": [
    "new_webpage"
   ]
  },
  {
   "cell_type": "code",
   "execution_count": 94,
   "id": "cb47c05e-260e-4af5-8871-ad0e286d19f8",
   "metadata": {},
   "outputs": [],
   "source": [
    "new_soup = BeautifulSoup(new_webpage.content, \"html.parser\")"
   ]
  },
  {
   "cell_type": "code",
   "execution_count": 100,
   "id": "7cf75877-ecdc-4077-b90b-9d7316c400d8",
   "metadata": {},
   "outputs": [],
   "source": [
    "# Trova l'elemento <span> con l'attributo 'id' uguale a 'productTitle' e ottieni il testo\n",
    "product_title = new_soup.find(\"span\", class_=\"ux-textspans ux-textspans--BOLD\").text.strip()\n",
    "\n",
    "# Trova l'elemento <span> con l'attributo 'class' uguale a 'a-price a-text-price a-size-medium',\n",
    "secondary_text = new_soup.find(\"span\", class_=\"ux-textspans ux-textspans--SECONDARY\").text.strip()\n",
    "\n",
    "# Trova l'elemento <span> con l'id 'availability' e ottieni il testo\n",
    "availability = new_soup.find(\"span\", class_=\"ux-textspans\").text.strip()"
   ]
  },
  {
   "cell_type": "code",
   "execution_count": null,
   "id": "acf80aa2-376c-440e-94b4-ea3c70a01fbd",
   "metadata": {},
   "outputs": [],
   "source": []
  },
  {
   "cell_type": "code",
   "execution_count": null,
   "id": "ecd4cd09-f9ad-4bf6-88e2-7519c9852983",
   "metadata": {},
   "outputs": [],
   "source": []
  }
 ],
 "metadata": {
  "kernelspec": {
   "display_name": "Python 3 (ipykernel)",
   "language": "python",
   "name": "python3"
  },
  "language_info": {
   "codemirror_mode": {
    "name": "ipython",
    "version": 3
   },
   "file_extension": ".py",
   "mimetype": "text/x-python",
   "name": "python",
   "nbconvert_exporter": "python",
   "pygments_lexer": "ipython3",
   "version": "3.9.7"
  }
 },
 "nbformat": 4,
 "nbformat_minor": 5
}
